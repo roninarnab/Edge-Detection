{
 "cells": [
  {
   "cell_type": "code",
   "execution_count": null,
   "metadata": {},
   "outputs": [],
   "source": [
    "import matplotlib.image as mpimg\n",
    "import matplotlib.pyplot as plt\n",
    "import numpy as np\n",
    "import cv2\n",
    "\n",
    "def Cartoon(image_color):\n",
    "    output_image = cv2.stylization(image_color, sigma_s=100, sigma_r=0.3)\n",
    "    return output_image\n",
    "\n",
    "def LiveCamEdgeDetection_canny(image_color):   \n",
    "    threshold_1 = 30\n",
    "    threshold_2 = 80\n",
    "    image_gray = cv2.cvtColor(image_color, cv2.COLOR_BGR2GRAY)\n",
    "    canny = cv2.Canny(image_gray, threshold_1, threshold_2)\n",
    "    return canny\n",
    "# Main calling function to initialize webcam and apply edge detection\n",
    "\n",
    "cap = cv2.VideoCapture(0)\n",
    "\n",
    "while True:\n",
    "    ret, frame = cap.read()   \n",
    "    cv2.imshow('Live Edge Detection', LiveCamEdgeDetection_canny(frame))\n",
    "    cv2.imshow('Webcam Video', frame)\n",
    "    if cv2.waitKey(1) == 13: #13 Enter Key\n",
    "        break\n",
    "        \n",
    "cap.release() # camera release \n",
    "cv2.destroyAllWindows()"
   ]
  },
  {
   "cell_type": "code",
   "execution_count": null,
   "metadata": {},
   "outputs": [],
   "source": []
  }
 ],
 "metadata": {
  "kernelspec": {
   "display_name": "Python 3",
   "language": "python",
   "name": "python3"
  },
  "language_info": {
   "codemirror_mode": {
    "name": "ipython",
    "version": 3
   },
   "file_extension": ".py",
   "mimetype": "text/x-python",
   "name": "python",
   "nbconvert_exporter": "python",
   "pygments_lexer": "ipython3",
   "version": "3.8.5"
  }
 },
 "nbformat": 4,
 "nbformat_minor": 4
}
